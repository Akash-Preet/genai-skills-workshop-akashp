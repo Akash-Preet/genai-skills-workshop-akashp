{
  "cells": [
    {
      "cell_type": "code",
      "execution_count": 1,
      "id": "mJofIccGPlVXwnHpYNJpS8Di",
      "metadata": {
        "colab": {
          "base_uri": "https://localhost:8080/"
        },
        "id": "mJofIccGPlVXwnHpYNJpS8Di",
        "outputId": "03b02d4e-a997-4afb-9fd5-e58024db5126",
        "tags": []
      },
      "outputs": [
        {
          "name": "stdout",
          "output_type": "stream",
          "text": [
            "WARNING: google.colab.auth.authenticate_user() is not supported in Colab Enterprise.\n"
          ]
        }
      ],
      "source": [
        "from google.colab import auth\n",
        "auth.authenticate_user()"
      ]
    },
    {
      "cell_type": "code",
      "execution_count": null,
      "id": "7ULUwdWxJKT_",
      "metadata": {
        "id": "7ULUwdWxJKT_"
      },
      "outputs": [],
      "source": [
        "!pip install -U google-generativeai"
      ]
    },
    {
      "cell_type": "code",
      "execution_count": null,
      "id": "URepaOz8LzxY",
      "metadata": {
        "id": "URepaOz8LzxY"
      },
      "outputs": [],
      "source": [
        "import google.generativeai as genai\n",
        "\n",
        "genai.configure(api_key=\"YOUR_API_KEY\")"
      ]
    },
    {
      "cell_type": "markdown",
      "id": "So29d6zHSwlk",
      "metadata": {
        "id": "So29d6zHSwlk"
      },
      "source": [
        "This **Chat Assistant** will reply back only with **20 words** and it cannot answer anything related to **Food**."
      ]
    },
    {
      "cell_type": "code",
      "execution_count": 20,
      "id": "WJFsQKCrQquU",
      "metadata": {
        "id": "WJFsQKCrQquU"
      },
      "outputs": [],
      "source": [
        "# Define your model\n",
        "model = genai.GenerativeModel(\n",
        "    model_name=\"gemini-2.5-pro-preview-06-05\",\n",
        "    system_instruction=(\n",
        "        \"You must always respond with 20 words or fewer. \"\n",
        "        \"Do not answer questions or talk about anything related to food, eating, or cooking. \"\n",
        "        \"If asked about food, say 'This topic is restricted.'\"\n",
        "    )\n",
        ")"
      ]
    },
    {
      "cell_type": "code",
      "execution_count": 21,
      "id": "BrPVIEiuQuvP",
      "metadata": {
        "id": "BrPVIEiuQuvP"
      },
      "outputs": [],
      "source": [
        "# Start chat session\n",
        "chat = model.start_chat()"
      ]
    },
    {
      "cell_type": "code",
      "execution_count": null,
      "id": "JjbiZhcRQ0Di",
      "metadata": {
        "id": "JjbiZhcRQ0Di"
      },
      "outputs": [],
      "source": [
        "# Interactive loop\n",
        "while True:\n",
        "    user_input = input(\"You: \")\n",
        "    if user_input.lower() in ['exit', 'quit']:\n",
        "        break\n",
        "\n",
        "    response = chat.send_message(user_input)\n",
        "\n",
        "    # Enforce 20-word cap (post-processing safeguard)\n",
        "    words = response.text.split()\n",
        "    if \"food\" in user_input.lower() or any(food_word in user_input.lower() for food_word in [\"eat\", \"cooking\", \"recipe\"]):\n",
        "        print(\"Gemini: This topic is restricted.\")\n",
        "    else:\n",
        "        print(\"Gemini:\", \" \".join(words[:20]))"
      ]
    }
  ],
  "metadata": {
    "colab": {
      "name": "student-03-55a163c311c5 (Jun 16, 2025, 10:38:55 AM)",
      "provenance": []
    },
    "kernelspec": {
      "display_name": "Python 3",
      "language": "python",
      "name": "python3"
    },
    "language_info": {
      "codemirror_mode": {
        "name": "ipython",
        "version": 3
      },
      "file_extension": ".py",
      "mimetype": "text/x-python",
      "name": "python",
      "nbconvert_exporter": "python",
      "pygments_lexer": "ipython3",
      "version": "3.10.10"
    }
  },
  "nbformat": 4,
  "nbformat_minor": 5
}

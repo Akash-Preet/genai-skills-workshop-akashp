{
  "cells": [
    {
      "cell_type": "code",
      "execution_count": 13,
      "id": "mjvCSXOKJtXLcGhKvafqQfCb",
      "metadata": {
        "id": "mjvCSXOKJtXLcGhKvafqQfCb",
        "tags": []
      },
      "outputs": [],
      "source": [
        "!pip install -q google-cloud-bigquery google-generativeai google-cloud-aiplatform scikit-learn"
      ]
    },
    {
      "cell_type": "code",
      "execution_count": 12,
      "id": "4sjAUhg3L5wM",
      "metadata": {
        "colab": {
          "base_uri": "https://localhost:8080/"
        },
        "id": "4sjAUhg3L5wM",
        "outputId": "6649b7e7-486c-4f54-903d-dfb2e6c2fb84"
      },
      "outputs": [
        {
          "name": "stdout",
          "output_type": "stream",
          "text": [
            "WARNING: google.colab.auth.authenticate_user() is not supported in Colab Enterprise.\n"
          ]
        }
      ],
      "source": [
        "from google.colab import auth\n",
        "auth.authenticate_user()"
      ]
    },
    {
      "cell_type": "code",
      "execution_count": null,
      "id": "Smil0GsaL7Oe",
      "metadata": {
        "id": "Smil0GsaL7Oe"
      },
      "outputs": [],
      "source": [
        "from google.cloud import bigquery, aiplatform\n",
        "import google.generativeai as genai\n",
        "from sklearn.metrics.pairwise import cosine_similarity\n",
        "import numpy as np\n",
        "import json\n",
        "\n",
        "# INIT\n",
        "PROJECT_ID = \"qwiklabs-gcp-01-788c9d3b43e9\"\n",
        "REGION = \"us-central1\"\n",
        "\n",
        "aiplatform.init(project=PROJECT_ID, location=REGION)\n",
        "bq_client = bigquery.Client(project=PROJECT_ID)\n",
        "\n",
        "genai.configure(api_key=\"YOUR_API_KEY\")\n"
      ]
    },
    {
      "cell_type": "code",
      "execution_count": 30,
      "id": "kXA8dAfFL_Ns",
      "metadata": {
        "id": "kXA8dAfFL_Ns"
      },
      "outputs": [],
      "source": [
        "from vertexai.language_models import TextEmbeddingModel\n",
        "def get_embedding(text: str):\n",
        "    model = TextEmbeddingModel.from_pretrained(\"text-embedding-005\")\n",
        "    embeddings = model.get_embeddings([text])\n",
        "    return np.array(embeddings[0].values, dtype=np.float32)\n"
      ]
    },
    {
      "cell_type": "code",
      "execution_count": 31,
      "id": "Z2QZKI-9MRZW",
      "metadata": {
        "id": "Z2QZKI-9MRZW"
      },
      "outputs": [],
      "source": [
        "model = genai.GenerativeModel(\n",
        "    model_name=\"gemini-2.5-pro-preview-06-05\",\n",
        "    system_instruction=(\n",
        "       \"You are a helpful FAQ Assistant respond only to the questions.\"\n",
        "    )\n",
        ")\n",
        "\n",
        "chat = model.start_chat()\n"
      ]
    },
    {
      "cell_type": "code",
      "execution_count": 32,
      "id": "HntPp-JWNrWn",
      "metadata": {
        "id": "HntPp-JWNrWn"
      },
      "outputs": [],
      "source": [
        "def get_context_from_bigquery(user_input: str, top_k: int = 5):\n",
        "    query = \"\"\"\n",
        "    SELECT question, answer, ml_generate_embedding_result\n",
        "    FROM `AuroraBayFaqs.aurora_bay_faqs_embedded`\n",
        "    \"\"\"\n",
        "    df = bq_client.query(query).to_dataframe()\n",
        "\n",
        "    # Convert to vectors\n",
        "    df[\"embedding_vector\"] = df[\"ml_generate_embedding_result\"].apply(lambda x: np.array(x, dtype=np.float32))\n",
        "\n",
        "    # User input embedding\n",
        "    user_vector = get_embedding(user_input).reshape(1, -1)\n",
        "\n",
        "    # Cosine similarity\n",
        "    similarities = cosine_similarity(user_vector, df[\"embedding_vector\"].tolist())[0]\n",
        "    df[\"score\"] = similarities\n",
        "\n",
        "    top = df.sort_values(\"score\", ascending=False).head(top_k)\n",
        "    return \"\\n\".join([f\"Q: {row.question}\\nA: {row.answer}\" for _, row in top.iterrows()])\n"
      ]
    },
    {
      "cell_type": "code",
      "execution_count": 33,
      "id": "Y4Beg-UQNv21",
      "metadata": {
        "colab": {
          "base_uri": "https://localhost:8080/",
          "height": 106
        },
        "id": "Y4Beg-UQNv21",
        "outputId": "318fb84b-5a53-44d3-8a1f-eb336f1da1ed"
      },
      "outputs": [
        {
          "name": "stdout",
          "output_type": "stream",
          "text": [
            "You: When was Aurora Bay founded?\n",
            "Gemini: Aurora Bay was founded in 1901 by a group of fur traders who recognized the region’s strategic coastal location.\n",
            "You: Who is the current mayor of Aurora Bay?\n",
            "Gemini: The current mayor is Linda Greenwood, elected in 2021 for a four-year term.\n",
            "You: exit\n"
          ]
        }
      ],
      "source": [
        "while True:\n",
        "    user_input = input(\"You: \")\n",
        "    if user_input.lower() in [\"exit\", \"quit\"]:\n",
        "        break\n",
        "\n",
        "    try:\n",
        "        context = get_context_from_bigquery(user_input)\n",
        "        if not context:\n",
        "            context = \"No relevant information found.\"\n",
        "\n",
        "        prompt = f\"Context:\\n{context}\\n\\nQuestion:\\n{user_input}\"\n",
        "        response = chat.send_message(prompt)\n",
        "        print(\"Gemini:\", \" \".join(response.text.split()[:20]))\n",
        "    except Exception as e:\n",
        "        print(\"Error:\", e)\n"
      ]
    }
  ],
  "metadata": {
    "colab": {
      "name": "student-03-55a163c311c5 (Jun 16, 2025, 3:30:47 PM)",
      "provenance": []
    },
    "kernelspec": {
      "display_name": "Python 3",
      "language": "python",
      "name": "python3"
    },
    "language_info": {
      "codemirror_mode": {
        "name": "ipython",
        "version": 3
      },
      "file_extension": ".py",
      "mimetype": "text/x-python",
      "name": "python",
      "nbconvert_exporter": "python",
      "pygments_lexer": "ipython3",
      "version": "3.10.10"
    }
  },
  "nbformat": 4,
  "nbformat_minor": 5
}
